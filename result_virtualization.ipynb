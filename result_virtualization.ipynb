{
 "cells": [
  {
   "cell_type": "code",
   "execution_count": 1,
   "metadata": {
    "scrolled": true
   },
   "outputs": [],
   "source": [
    "import os\n",
    "# setup pyspark jars\n",
    "os.environ[\"PYSPARK_SUBMIT_ARGS\"] = \"--jars /home/cloudera/twitter_stream/libs/spark-core_2.11-1.5.2.logging.jar,/usr/lib/hbase/hbase-spark-1.2.0-cdh5.14.0.jar,/usr/lib/hive/lib/guava-14.0.1.jar,/usr/lib/hive/lib/hive-hbase-handler-1.1.0-cdh5.14.0.jar,/usr/lib/hbase/lib/htrace-core.jar,/usr/lib/zookeeper/zookeeper.jar,/usr/lib/hbase/hbase-client.jar,/usr/lib/hbase/hbase-common.jar,/usr/lib/hbase/hbase-protocol.jar,/usr/lib/hbase/hbase-server.jar,/usr/lib/hbase/hbase-hadoop-compat.jar,/usr/lib/hbase/hbase-hadoop2-compat.jar,/usr/lib/hbase/lib/metrics-core-2.2.0.jar pyspark-shell\"\n",
    "\n",
    "from __future__ import unicode_literals\n",
    "\n",
    "from pyspark import SparkContext\n",
    "from pyspark.sql import SparkSession\n",
    "import pandas as pd\n",
    "import numpy as np\n",
    "import matplotlib\n",
    "import matplotlib.pyplot as plt\n",
    "plt.rc('font', family='Arial')\n",
    "import matplotlib.dates as mdates\n",
    "from matplotlib.ticker import IndexFormatter\n",
    "%matplotlib inline\n",
    "#pd.__version__\n",
    "\n",
    "# show col title\n",
    "def show_col_title(p, data):\n",
    "    for rect, total in zip(p.patches, data):\n",
    "        p.text(rect.get_x() + rect.get_width() / 2, rect.get_height(), '{0:,}'.format(total), \n",
    "                    ha='center', va='bottom', fontsize=12, fontweight='bold')\n",
    "\n",
    "\n",
    "sqlContext = SparkSession\\\n",
    "    .builder\\\n",
    "    .appName(\"Python Spark SQL Hive matplotlib\") \\\n",
    "    .config(\"hive.metastore.uris\", \"thrift://127.0.0.1:9083\") \\\n",
    "    .enableHiveSupport() \\\n",
    "    .getOrCreate()"
   ]
  },
  {
   "cell_type": "code",
   "execution_count": 2,
   "metadata": {},
   "outputs": [],
   "source": [
    "# top 10 hashtags\n",
    "df_hashtag = sqlContext.sql('SELECT hashtag AS hashtag, COUNT(*) AS total\\\n",
    "                        FROM default.tweets LATERAL VIEW explode(SPLIT(lower(general_hashtags),\",\")) aTable AS hashtag\\\n",
    "                        WHERE general_hashtags IS NOT NULL AND LENGTH(general_hashtags) > 0\\\n",
    "                        GROUP BY hashtag\\\n",
    "                        ORDER BY total DESC\\\n",
    "                        LIMIT 10').toPandas()"
   ]
  },
  {
   "cell_type": "code",
   "execution_count": 3,
   "metadata": {},
   "outputs": [
    {
     "data": {
      "image/png": "[encoded data removed]",
      "text/plain": [
       "<Figure size 864x504 with 1 Axes>"
      ]
     },
     "metadata": {},
     "output_type": "display_data"
    }
   ],
   "source": [
    "#print(df_hashtag)\n",
    "fig1, ax1 = plt.subplots(figsize=(12,7))\n",
    "ax1.tick_params(axis='x', labelsize=15)\n",
    "ax1.tick_params(axis='y', labelsize=10)\n",
    "ax1.set_title('Top 10 Hashtags', fontsize=15, fontweight='bold')\n",
    "chart1 = df_hashtag.plot(ax=ax1, kind='bar',x='hashtag', y='total')\n",
    "show_col_title(chart1, df_hashtag['total'])\n",
    "# save result to file\n",
    "#plt.savefig('tweet_by_country', format='png')"
   ]
  },
  {
   "cell_type": "code",
   "execution_count": null,
   "metadata": {},
   "outputs": [],
   "source": [
    "# top 10 cities in US\n",
    "#WHERE place_place_type = \"city\" AND place_country_code = \"US\"\\\n",
    "df_cities = sqlContext.sql('SELECT CONCAT(place_name,\" - \",place_country) AS name, COUNT(*) AS total\\\n",
    "                        FROM default.tweets\\\n",
    "                        GROUP BY place_name, place_country\\\n",
    "                        ORDER BY total DESC\\\n",
    "                        LIMIT 10').toPandas()\n",
    "#print(df_cities)"
   ]
  },
  {
   "cell_type": "code",
   "execution_count": null,
   "metadata": {},
   "outputs": [],
   "source": [
    "plt.figure(figsize=(20,10))\n",
    "ax2 = plt.subplot(121, aspect='equal')\n",
    "\n",
    "explode=[0] * len(df_cities)\n",
    "#explode first one\n",
    "explode[0] = 0.1\n",
    "\n",
    "df_cities.plot(kind='pie', y = 'total', ax=ax2, autopct='%1.1f%%', explode=tuple(explode),\n",
    "          startangle=90, shadow=False, labels=df_cities['name'], legend = False, fontsize=14)\n"
   ]
  },
  {
   "cell_type": "code",
   "execution_count": null,
   "metadata": {},
   "outputs": [],
   "source": [
    "# \n",
    "df_lang = sqlContext.sql('SELECT UPPER(general_lang) AS group, COUNT(*) AS total\\\n",
    "                        FROM default.tweets\\\n",
    "                        GROUP BY general_lang\\\n",
    "                        ORDER BY total DESC\\\n",
    "                        LIMIT 10').toPandas()"
   ]
  },
  {
   "cell_type": "code",
   "execution_count": null,
   "metadata": {},
   "outputs": [],
   "source": [
    "fig3, ax3 = plt.subplots(figsize=(12,7))\n",
    "ax3.tick_params(axis='x', labelsize=15)\n",
    "ax3.tick_params(axis='y', labelsize=10)\n",
    "ax3.set_title('Top 10 most popular languages', fontsize=15, fontweight='bold')\n",
    "\n",
    "chart3 = df_lang.plot(ax=ax3, kind='bar',x='group', y='total')\n",
    "show_col_title(chart3, df_lang['total'])\n",
    "\n",
    "#plt.savefig('tweet_by_country', format='png')"
   ]
  },
  {
   "cell_type": "code",
   "execution_count": null,
   "metadata": {},
   "outputs": [],
   "source": [
    "# total by hour - localtime CST time zone\n",
    "df4 = sqlContext.sql('SELECT CONCAT(MONTH(local_created_ts), \"/\", DAY(local_created_ts), \" \", HOUR(local_created_ts), \"h\") AS group, COUNT(*) total\\\n",
    "                    FROM (SELECT from_utc_timestamp(from_unixtime(general_created_ts), \"CST\") AS local_created_ts \\\n",
    "                            FROM default.tweets) AS tbl\\\n",
    "                    GROUP BY group\\\n",
    "                    ORDER BY group').toPandas()\n",
    "\n",
    "df4.set_index('group',inplace=True)"
   ]
  },
  {
   "cell_type": "code",
   "execution_count": null,
   "metadata": {},
   "outputs": [],
   "source": [
    "#print(df4)\n",
    "fig, ax4 = plt.subplots(figsize=(15,7))\n",
    "ax4.set_title(\"\", fontsize=18, )\n",
    "ax4.set_title('Tweets by hour', fontsize=15, fontweight='bold')\n",
    "chart4 = df4.plot(ax=ax4, table=True)"
   ]
  }
 ],
 "metadata": {
  "kernelspec": {
   "display_name": "Python 3",
   "language": "python",
   "name": "python3"
  },
  "language_info": {
   "codemirror_mode": {
    "name": "ipython",
    "version": 3
   },
   "file_extension": ".py",
   "mimetype": "text/x-python",
   "name": "python",
   "nbconvert_exporter": "python",
   "pygments_lexer": "ipython3",
   "version": "3.6.4"
  }
 },
 "nbformat": 4,
 "nbformat_minor": 2
}
